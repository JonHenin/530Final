{
 "cells": [
  {
   "cell_type": "code",
   "execution_count": 1,
   "metadata": {},
   "outputs": [],
   "source": [
    "# modules\n",
    "import pandas as pd\n",
    "import numpy as np\n",
    "import matplotlib.pyplot as plt\n",
    "import thinkstats2\n",
    "import thinkplot\n",
    "import seaborn as sns\n",
    "import scipy.stats as stats\n",
    "import statsmodels.formula.api as smf\n",
    "sns.set()\n",
    "\n",
    "from matplotlib.ticker import StrMethodFormatter\n",
    "from datetime import datetime\n",
    "\n",
    "# data\n",
    "ks_data_raw = pd.read_csv(\"ks-projects-201801.csv\")\n",
    "\n",
    "# set seed\n",
    "np.random.seed(530)\n",
    "\n",
    "# Set pandas options\n",
    "pd.options.display.float_format = '{:.2f}'.format\n",
    "pd.options.mode.chained_assignment = None"
   ]
  },
  {
   "cell_type": "code",
   "execution_count": 2,
   "metadata": {},
   "outputs": [
    {
     "data": {
      "text/html": [
       "<div>\n",
       "<style scoped>\n",
       "    .dataframe tbody tr th:only-of-type {\n",
       "        vertical-align: middle;\n",
       "    }\n",
       "\n",
       "    .dataframe tbody tr th {\n",
       "        vertical-align: top;\n",
       "    }\n",
       "\n",
       "    .dataframe thead th {\n",
       "        text-align: right;\n",
       "    }\n",
       "</style>\n",
       "<table border=\"1\" class=\"dataframe\">\n",
       "  <thead>\n",
       "    <tr style=\"text-align: right;\">\n",
       "      <th></th>\n",
       "      <th>ID</th>\n",
       "      <th>name</th>\n",
       "      <th>category</th>\n",
       "      <th>main_category</th>\n",
       "      <th>currency</th>\n",
       "      <th>deadline</th>\n",
       "      <th>goal</th>\n",
       "      <th>launched</th>\n",
       "      <th>pledged</th>\n",
       "      <th>state</th>\n",
       "      <th>backers</th>\n",
       "      <th>country</th>\n",
       "      <th>usd pledged</th>\n",
       "      <th>usd_pledged_real</th>\n",
       "      <th>usd_goal_real</th>\n",
       "    </tr>\n",
       "  </thead>\n",
       "  <tbody>\n",
       "    <tr>\n",
       "      <th>0</th>\n",
       "      <td>1000002330</td>\n",
       "      <td>The Songs of Adelaide &amp; Abullah</td>\n",
       "      <td>Poetry</td>\n",
       "      <td>Publishing</td>\n",
       "      <td>GBP</td>\n",
       "      <td>2015-10-09</td>\n",
       "      <td>1000.00</td>\n",
       "      <td>2015-08-11 12:12:28</td>\n",
       "      <td>0.00</td>\n",
       "      <td>failed</td>\n",
       "      <td>0</td>\n",
       "      <td>GB</td>\n",
       "      <td>0.00</td>\n",
       "      <td>0.00</td>\n",
       "      <td>1533.95</td>\n",
       "    </tr>\n",
       "    <tr>\n",
       "      <th>1</th>\n",
       "      <td>1000003930</td>\n",
       "      <td>Greeting From Earth: ZGAC Arts Capsule For ET</td>\n",
       "      <td>Narrative Film</td>\n",
       "      <td>Film &amp; Video</td>\n",
       "      <td>USD</td>\n",
       "      <td>2017-11-01</td>\n",
       "      <td>30000.00</td>\n",
       "      <td>2017-09-02 04:43:57</td>\n",
       "      <td>2421.00</td>\n",
       "      <td>failed</td>\n",
       "      <td>15</td>\n",
       "      <td>US</td>\n",
       "      <td>100.00</td>\n",
       "      <td>2421.00</td>\n",
       "      <td>30000.00</td>\n",
       "    </tr>\n",
       "    <tr>\n",
       "      <th>2</th>\n",
       "      <td>1000004038</td>\n",
       "      <td>Where is Hank?</td>\n",
       "      <td>Narrative Film</td>\n",
       "      <td>Film &amp; Video</td>\n",
       "      <td>USD</td>\n",
       "      <td>2013-02-26</td>\n",
       "      <td>45000.00</td>\n",
       "      <td>2013-01-12 00:20:50</td>\n",
       "      <td>220.00</td>\n",
       "      <td>failed</td>\n",
       "      <td>3</td>\n",
       "      <td>US</td>\n",
       "      <td>220.00</td>\n",
       "      <td>220.00</td>\n",
       "      <td>45000.00</td>\n",
       "    </tr>\n",
       "    <tr>\n",
       "      <th>3</th>\n",
       "      <td>1000007540</td>\n",
       "      <td>ToshiCapital Rekordz Needs Help to Complete Album</td>\n",
       "      <td>Music</td>\n",
       "      <td>Music</td>\n",
       "      <td>USD</td>\n",
       "      <td>2012-04-16</td>\n",
       "      <td>5000.00</td>\n",
       "      <td>2012-03-17 03:24:11</td>\n",
       "      <td>1.00</td>\n",
       "      <td>failed</td>\n",
       "      <td>1</td>\n",
       "      <td>US</td>\n",
       "      <td>1.00</td>\n",
       "      <td>1.00</td>\n",
       "      <td>5000.00</td>\n",
       "    </tr>\n",
       "    <tr>\n",
       "      <th>4</th>\n",
       "      <td>1000011046</td>\n",
       "      <td>Community Film Project: The Art of Neighborhoo...</td>\n",
       "      <td>Film &amp; Video</td>\n",
       "      <td>Film &amp; Video</td>\n",
       "      <td>USD</td>\n",
       "      <td>2015-08-29</td>\n",
       "      <td>19500.00</td>\n",
       "      <td>2015-07-04 08:35:03</td>\n",
       "      <td>1283.00</td>\n",
       "      <td>canceled</td>\n",
       "      <td>14</td>\n",
       "      <td>US</td>\n",
       "      <td>1283.00</td>\n",
       "      <td>1283.00</td>\n",
       "      <td>19500.00</td>\n",
       "    </tr>\n",
       "  </tbody>\n",
       "</table>\n",
       "</div>"
      ],
      "text/plain": [
       "           ID                                               name  \\\n",
       "0  1000002330                    The Songs of Adelaide & Abullah   \n",
       "1  1000003930      Greeting From Earth: ZGAC Arts Capsule For ET   \n",
       "2  1000004038                                     Where is Hank?   \n",
       "3  1000007540  ToshiCapital Rekordz Needs Help to Complete Album   \n",
       "4  1000011046  Community Film Project: The Art of Neighborhoo...   \n",
       "\n",
       "         category main_category currency    deadline     goal  \\\n",
       "0          Poetry    Publishing      GBP  2015-10-09  1000.00   \n",
       "1  Narrative Film  Film & Video      USD  2017-11-01 30000.00   \n",
       "2  Narrative Film  Film & Video      USD  2013-02-26 45000.00   \n",
       "3           Music         Music      USD  2012-04-16  5000.00   \n",
       "4    Film & Video  Film & Video      USD  2015-08-29 19500.00   \n",
       "\n",
       "              launched  pledged     state  backers country  usd pledged  \\\n",
       "0  2015-08-11 12:12:28     0.00    failed        0      GB         0.00   \n",
       "1  2017-09-02 04:43:57  2421.00    failed       15      US       100.00   \n",
       "2  2013-01-12 00:20:50   220.00    failed        3      US       220.00   \n",
       "3  2012-03-17 03:24:11     1.00    failed        1      US         1.00   \n",
       "4  2015-07-04 08:35:03  1283.00  canceled       14      US      1283.00   \n",
       "\n",
       "   usd_pledged_real  usd_goal_real  \n",
       "0              0.00        1533.95  \n",
       "1           2421.00       30000.00  \n",
       "2            220.00       45000.00  \n",
       "3              1.00        5000.00  \n",
       "4           1283.00       19500.00  "
      ]
     },
     "execution_count": 2,
     "metadata": {},
     "output_type": "execute_result"
    }
   ],
   "source": [
    "ks_data_raw.head()"
   ]
  },
  {
   "cell_type": "markdown",
   "metadata": {},
   "source": [
    "## Variables\n",
    "\n",
    "name = Name of kickstarter title\n",
    "category = Specific category of kickstarter\n",
    "main_category = Category buckets of `category`\n",
    "deadline = Date of deadline\n",
    "launched = Date kickstarter event went live\n",
    "state = Condition of the project\n",
    "backers = Number of individuals backing the project\n",
    "usd_goal_real = Goal amount converted to USD\n",
    "usd_pledged_real = Amount pledged converted to USD"
   ]
  },
  {
   "cell_type": "code",
   "execution_count": 3,
   "metadata": {},
   "outputs": [
    {
     "name": "stdout",
     "output_type": "stream",
     "text": [
      "<class 'pandas.core.frame.DataFrame'>\n",
      "RangeIndex: 378661 entries, 0 to 378660\n",
      "Data columns (total 15 columns):\n",
      "ID                  378661 non-null int64\n",
      "name                378657 non-null object\n",
      "category            378661 non-null object\n",
      "main_category       378661 non-null object\n",
      "currency            378661 non-null object\n",
      "deadline            378661 non-null object\n",
      "goal                378661 non-null float64\n",
      "launched            378661 non-null object\n",
      "pledged             378661 non-null float64\n",
      "state               378661 non-null object\n",
      "backers             378661 non-null int64\n",
      "country             378661 non-null object\n",
      "usd pledged         374864 non-null float64\n",
      "usd_pledged_real    378661 non-null float64\n",
      "usd_goal_real       378661 non-null float64\n",
      "dtypes: float64(5), int64(2), object(8)\n",
      "memory usage: 43.3+ MB\n",
      "None\n"
     ]
    }
   ],
   "source": [
    "print(ks_data_raw.info())"
   ]
  },
  {
   "cell_type": "markdown",
   "metadata": {},
   "source": [
    "## Histograms & Data Cleaning"
   ]
  },
  {
   "cell_type": "code",
   "execution_count": 4,
   "metadata": {},
   "outputs": [
    {
     "name": "stdout",
     "output_type": "stream",
     "text": [
      "ID                     0\n",
      "name                   4\n",
      "category               0\n",
      "main_category          0\n",
      "currency               0\n",
      "deadline               0\n",
      "goal                   0\n",
      "launched               0\n",
      "pledged                0\n",
      "state                  0\n",
      "backers                0\n",
      "country                0\n",
      "usd pledged         3797\n",
      "usd_pledged_real       0\n",
      "usd_goal_real          0\n",
      "dtype: int64\n"
     ]
    }
   ],
   "source": [
    "# Checking for null\n",
    "\n",
    "print(ks_data_raw.isna().sum())"
   ]
  },
  {
   "cell_type": "code",
   "execution_count": 5,
   "metadata": {},
   "outputs": [],
   "source": [
    "# Will create a new dataframe with cleaned up data types and columns\n",
    "\n",
    "ks_data = pd.DataFrame()\n",
    "\n",
    "# Add ID & name fields\n",
    "\n",
    "ks_data['ID'] = ks_data_raw['ID']\n",
    "ks_data['name'] = ks_data_raw['name']\n",
    "\n",
    "# Convert a few to category type\n",
    "\n",
    "ks_data['main_category'] = ks_data_raw['main_category'].astype('category')\n",
    "ks_data['category'] = ks_data_raw['category'].astype('category')\n",
    "ks_data['state'] = ks_data_raw['state'].astype('category')\n",
    "ks_data['country'] = ks_data_raw['country'].astype('category')\n",
    "\n",
    "# Need to convert date columns from string to datetime\n",
    "\n",
    "ks_data['deadline'] = pd.to_datetime(ks_data_raw['deadline'])\n",
    "ks_data['launched'] = pd.to_datetime(ks_data_raw['launched'])\n",
    "\n",
    "# It seems the usd_*_real values are already cleaned up so we will use those instead of the raw fields\n",
    "\n",
    "ks_data['goal'] = ks_data_raw['usd_goal_real']\n",
    "ks_data['pledged'] = ks_data_raw['usd_pledged_real']\n",
    "\n",
    "# Add Backers \n",
    "\n",
    "ks_data['backers'] = ks_data_raw['backers']\n",
    "\n",
    "# Add column for number of days between launched and deadline\n",
    "\n",
    "ks_data['days_to_complete'] = ((ks_data['deadline'] - ks_data['launched']).dt.days)"
   ]
  },
  {
   "cell_type": "code",
   "execution_count": 6,
   "metadata": {},
   "outputs": [
    {
     "name": "stdout",
     "output_type": "stream",
     "text": [
      "<class 'pandas.core.frame.DataFrame'>\n",
      "RangeIndex: 378661 entries, 0 to 378660\n",
      "Data columns (total 12 columns):\n",
      "ID                  378661 non-null int64\n",
      "name                378657 non-null object\n",
      "main_category       378661 non-null category\n",
      "category            378661 non-null category\n",
      "state               378661 non-null category\n",
      "country             378661 non-null category\n",
      "deadline            378661 non-null datetime64[ns]\n",
      "launched            378661 non-null datetime64[ns]\n",
      "goal                378661 non-null float64\n",
      "pledged             378661 non-null float64\n",
      "backers             378661 non-null int64\n",
      "days_to_complete    378661 non-null int64\n",
      "dtypes: category(4), datetime64[ns](2), float64(2), int64(3), object(1)\n",
      "memory usage: 24.9+ MB\n",
      "None\n"
     ]
    }
   ],
   "source": [
    "print(ks_data.info())"
   ]
  },
  {
   "cell_type": "code",
   "execution_count": 7,
   "metadata": {
    "scrolled": true
   },
   "outputs": [
    {
     "data": {
      "text/plain": [
       "<matplotlib.axes._subplots.AxesSubplot at 0x1c170972dd8>"
      ]
     },
     "execution_count": 7,
     "metadata": {},
     "output_type": "execute_result"
    },
    {
     "data": {
      "image/png": "[encoded data removed]",
      "text/plain": [
       "<Figure size 432x288 with 1 Axes>"
      ]
     },
     "metadata": {},
     "output_type": "display_data"
    }
   ],
   "source": [
    "ks_data['state'].value_counts().plot(kind=\"bar\")"
   ]
  },
  {
   "cell_type": "code",
   "execution_count": 8,
   "metadata": {},
   "outputs": [
    {
     "data": {
      "text/plain": [
       "<matplotlib.axes._subplots.AxesSubplot at 0x1c170f8c748>"
      ]
     },
     "execution_count": 8,
     "metadata": {},
     "output_type": "execute_result"
    },
    {
     "data": {
      "image/png": "[encoded data removed]",
      "text/plain": [
       "<Figure size 432x288 with 1 Axes>"
      ]
     },
     "metadata": {},
     "output_type": "display_data"
    }
   ],
   "source": [
    "ks_data['main_category'].value_counts().plot(kind=\"bar\")"
   ]
  },
  {
   "cell_type": "code",
   "execution_count": 9,
   "metadata": {},
   "outputs": [
    {
     "data": {
      "text/plain": [
       "array([[<matplotlib.axes._subplots.AxesSubplot object at 0x000001C172D1FC18>]],\n",
       "      dtype=object)"
      ]
     },
     "execution_count": 9,
     "metadata": {},
     "output_type": "execute_result"
    },
    {
     "data": {
      "image/png": "[encoded data removed]",
      "text/plain": [
       "<Figure size 432x288 with 1 Axes>"
      ]
     },
     "metadata": {},
     "output_type": "display_data"
    },
    {
     "data": {
      "image/png": "[encoded data removed]",
      "text/plain": [
       "<Figure size 432x288 with 1 Axes>"
      ]
     },
     "metadata": {},
     "output_type": "display_data"
    },
    {
     "data": {
      "image/png": "[encoded data removed]",
      "text/plain": [
       "<Figure size 432x288 with 1 Axes>"
      ]
     },
     "metadata": {},
     "output_type": "display_data"
    },
    {
     "data": {
      "image/png": "[encoded data removed]",
      "text/plain": [
       "<Figure size 432x288 with 1 Axes>"
      ]
     },
     "metadata": {},
     "output_type": "display_data"
    }
   ],
   "source": [
    "ks_data.hist(column='goal')\n",
    "ks_data.hist(column='pledged')\n",
    "ks_data.hist(column='backers')\n",
    "ks_data.hist(column='days_to_complete')"
   ]
  },
  {
   "cell_type": "markdown",
   "metadata": {},
   "source": [
    "As we can see from the histograms there are a lot of outliers.  One of the more surprising ones is days_to_complete, as the max value allowed for a kickstarter campaign is 60 days, so anything over that probably indicates bad data."
   ]
  },
  {
   "cell_type": "code",
   "execution_count": 10,
   "metadata": {},
   "outputs": [],
   "source": [
    "# Value counts of years\n",
    "#ks_data['launched'].dt.to_period('Y').value_counts()\n",
    "\n",
    "# Look for values beyond 3 standard deviations\n",
    "#ks_data[np.abs(ks_data.days_to_complete - ks_data.days_to_complete.mean()) > 3 * ks_data.days_to_complete.std()]"
   ]
  },
  {
   "cell_type": "markdown",
   "metadata": {},
   "source": [
    "We can clearly see that 1970 is an extreme outlier probably used as a dummy value.  Will filter out those values."
   ]
  },
  {
   "cell_type": "code",
   "execution_count": 11,
   "metadata": {},
   "outputs": [],
   "source": [
    "#ks_data_clean = ks_data[ks_data.launched >= '2000-01-01']\n",
    "ks_data_clean = ks_data[ks_data.days_to_complete <= 60]"
   ]
  },
  {
   "cell_type": "code",
   "execution_count": 12,
   "metadata": {},
   "outputs": [
    {
     "data": {
      "text/plain": [
       "array([[<matplotlib.axes._subplots.AxesSubplot object at 0x000001C1729A76A0>]],\n",
       "      dtype=object)"
      ]
     },
     "execution_count": 12,
     "metadata": {},
     "output_type": "execute_result"
    },
    {
     "data": {
      "image/png": "[encoded data removed]",
      "text/plain": [
       "<Figure size 432x288 with 1 Axes>"
      ]
     },
     "metadata": {},
     "output_type": "display_data"
    }
   ],
   "source": [
    "ks_data_clean.hist(column='days_to_complete', bins=30)"
   ]
  },
  {
   "cell_type": "code",
   "execution_count": 13,
   "metadata": {},
   "outputs": [
    {
     "name": "stdout",
     "output_type": "stream",
     "text": [
      "Film & Video    136\n",
      "Technology       73\n",
      "Games            30\n",
      "Art              23\n",
      "Publishing       19\n",
      "Design           19\n",
      "Food             17\n",
      "Music            15\n",
      "Theater          10\n",
      "Journalism        9\n",
      "Fashion           8\n",
      "Photography       3\n",
      "Comics            3\n",
      "Crafts            1\n",
      "Dance             0\n",
      "Name: main_category, dtype: int64\n",
      "failed        291\n",
      "canceled       67\n",
      "suspended       6\n",
      "live            2\n",
      "undefined       0\n",
      "successful      0\n",
      "Name: state, dtype: int64\n"
     ]
    }
   ],
   "source": [
    "df_goal_outlier = ks_data_clean[np.abs(ks_data_clean.goal - ks_data_clean.goal.mean()) > 3 * ks_data_clean.goal.std()]\n",
    "print(df_goal_outlier['main_category'].value_counts())\n",
    "print(df_goal_outlier['state'].value_counts())"
   ]
  },
  {
   "cell_type": "markdown",
   "metadata": {},
   "source": [
    "It's reasonable that a lot of the large outliers of goals are either in the Film & Video category or Technology category as those are two categories that generally require more money to raise.  However, it's interesting that every single outlier of goal has been unsuccessful, which isn't that surprising but it leads me to wanting to plot the relationship between goal and chance of success."
   ]
  },
  {
   "cell_type": "markdown",
   "metadata": {},
   "source": [
    "## Descriptive Characteristics"
   ]
  },
  {
   "cell_type": "code",
   "execution_count": 14,
   "metadata": {},
   "outputs": [
    {
     "data": {
      "text/html": [
       "<div>\n",
       "<style scoped>\n",
       "    .dataframe tbody tr th:only-of-type {\n",
       "        vertical-align: middle;\n",
       "    }\n",
       "\n",
       "    .dataframe tbody tr th {\n",
       "        vertical-align: top;\n",
       "    }\n",
       "\n",
       "    .dataframe thead th {\n",
       "        text-align: right;\n",
       "    }\n",
       "</style>\n",
       "<table border=\"1\" class=\"dataframe\">\n",
       "  <thead>\n",
       "    <tr style=\"text-align: right;\">\n",
       "      <th></th>\n",
       "      <th>ID</th>\n",
       "      <th>goal</th>\n",
       "      <th>pledged</th>\n",
       "      <th>backers</th>\n",
       "      <th>days_to_complete</th>\n",
       "    </tr>\n",
       "  </thead>\n",
       "  <tbody>\n",
       "    <tr>\n",
       "      <th>count</th>\n",
       "      <td>373945.00</td>\n",
       "      <td>373945.00</td>\n",
       "      <td>373945.00</td>\n",
       "      <td>373945.00</td>\n",
       "      <td>373945.00</td>\n",
       "    </tr>\n",
       "    <tr>\n",
       "      <th>mean</th>\n",
       "      <td>1074622592.81</td>\n",
       "      <td>45612.53</td>\n",
       "      <td>9135.58</td>\n",
       "      <td>106.49</td>\n",
       "      <td>32.60</td>\n",
       "    </tr>\n",
       "    <tr>\n",
       "      <th>std</th>\n",
       "      <td>619119513.50</td>\n",
       "      <td>1158052.25</td>\n",
       "      <td>91536.26</td>\n",
       "      <td>912.76</td>\n",
       "      <td>11.63</td>\n",
       "    </tr>\n",
       "    <tr>\n",
       "      <th>min</th>\n",
       "      <td>5971.00</td>\n",
       "      <td>0.01</td>\n",
       "      <td>0.00</td>\n",
       "      <td>0.00</td>\n",
       "      <td>0.00</td>\n",
       "    </tr>\n",
       "    <tr>\n",
       "      <th>25%</th>\n",
       "      <td>538051597.00</td>\n",
       "      <td>2000.00</td>\n",
       "      <td>30.54</td>\n",
       "      <td>2.00</td>\n",
       "      <td>29.00</td>\n",
       "    </tr>\n",
       "    <tr>\n",
       "      <th>50%</th>\n",
       "      <td>1075053871.00</td>\n",
       "      <td>5500.00</td>\n",
       "      <td>625.00</td>\n",
       "      <td>12.00</td>\n",
       "      <td>29.00</td>\n",
       "    </tr>\n",
       "    <tr>\n",
       "      <th>75%</th>\n",
       "      <td>1609998762.00</td>\n",
       "      <td>15726.48</td>\n",
       "      <td>4065.00</td>\n",
       "      <td>56.00</td>\n",
       "      <td>35.00</td>\n",
       "    </tr>\n",
       "    <tr>\n",
       "      <th>max</th>\n",
       "      <td>2147476221.00</td>\n",
       "      <td>166361390.71</td>\n",
       "      <td>20338986.27</td>\n",
       "      <td>219382.00</td>\n",
       "      <td>60.00</td>\n",
       "    </tr>\n",
       "  </tbody>\n",
       "</table>\n",
       "</div>"
      ],
      "text/plain": [
       "                 ID         goal     pledged   backers  days_to_complete\n",
       "count     373945.00    373945.00   373945.00 373945.00         373945.00\n",
       "mean  1074622592.81     45612.53     9135.58    106.49             32.60\n",
       "std    619119513.50   1158052.25    91536.26    912.76             11.63\n",
       "min         5971.00         0.01        0.00      0.00              0.00\n",
       "25%    538051597.00      2000.00       30.54      2.00             29.00\n",
       "50%   1075053871.00      5500.00      625.00     12.00             29.00\n",
       "75%   1609998762.00     15726.48     4065.00     56.00             35.00\n",
       "max   2147476221.00 166361390.71 20338986.27 219382.00             60.00"
      ]
     },
     "execution_count": 14,
     "metadata": {},
     "output_type": "execute_result"
    }
   ],
   "source": [
    "ks_data_clean.describe()"
   ]
  },
  {
   "cell_type": "markdown",
   "metadata": {},
   "source": [
    "It doesn't seem possible that a kickstarter could have 0 backers and be successful so we will also get rid of those records."
   ]
  },
  {
   "cell_type": "code",
   "execution_count": 15,
   "metadata": {},
   "outputs": [],
   "source": [
    "ks_data_clean = ks_data_clean[ks_data_clean.backers > 0]"
   ]
  },
  {
   "cell_type": "markdown",
   "metadata": {},
   "source": [
    "## PMF"
   ]
  },
  {
   "cell_type": "code",
   "execution_count": 16,
   "metadata": {},
   "outputs": [],
   "source": [
    "success = ks_data_clean[ks_data_clean.state == 'successful']\n",
    "failed = ks_data_clean[ks_data_clean.state == 'failed']\n",
    "success_pmf = thinkstats2.Pmf(success.days_to_complete, label='success')\n",
    "failed_pmf = thinkstats2.Pmf(failed.days_to_complete, label='failed')"
   ]
  },
  {
   "cell_type": "code",
   "execution_count": 17,
   "metadata": {},
   "outputs": [
    {
     "name": "stdout",
     "output_type": "stream",
     "text": [
      "30.583195983850725\n",
      "33.7365169147669\n"
     ]
    },
    {
     "data": {
      "image/png": "[encoded data removed]",
      "text/plain": [
       "<Figure size 432x288 with 1 Axes>"
      ]
     },
     "metadata": {},
     "output_type": "display_data"
    }
   ],
   "source": [
    "axis = [1, 60, 0, .5]\n",
    "thinkplot.Pmfs([success_pmf, failed_pmf])\n",
    "thinkplot.Config(xlabel='Days to Complete', axis=axis)\n",
    "\n",
    "print(success.days_to_complete.mean())\n",
    "print(failed.days_to_complete.mean())"
   ]
  },
  {
   "cell_type": "markdown",
   "metadata": {},
   "source": [
    "## CDF"
   ]
  },
  {
   "cell_type": "code",
   "execution_count": 18,
   "metadata": {},
   "outputs": [
    {
     "data": {
      "image/png": "[encoded data removed]",
      "text/plain": [
       "<Figure size 432x288 with 1 Axes>"
      ]
     },
     "metadata": {},
     "output_type": "display_data"
    }
   ],
   "source": [
    "success_cdf = thinkstats2.Cdf(success.days_to_complete, label='success')\n",
    "failed_cdf = thinkstats2.Cdf(failed.days_to_complete, label='failed')\n",
    "thinkplot.Cdfs([success_cdf, failed_cdf])\n",
    "thinkplot.Config(xlabel='Days', ylabel='CDF', loc='upper left')"
   ]
  },
  {
   "cell_type": "markdown",
   "metadata": {},
   "source": [
    "We can see that the percentage of success and failures is roughly equal at around 30 Days.  However, less than 30 days we see higher percentage of successes than failures."
   ]
  },
  {
   "cell_type": "markdown",
   "metadata": {},
   "source": [
    "## Analytical Distribution"
   ]
  },
  {
   "cell_type": "code",
   "execution_count": 19,
   "metadata": {},
   "outputs": [
    {
     "data": {
      "image/png": "[encoded data removed]",
      "text/plain": [
       "<Figure size 432x288 with 1 Axes>"
      ]
     },
     "metadata": {},
     "output_type": "display_data"
    }
   ],
   "source": [
    "mean, var = thinkstats2.TrimmedMeanVar(success.days_to_complete, p=0.01)\n",
    "std = np.sqrt(var)\n",
    "\n",
    "xs = [-3, 3]\n",
    "fxs, fys = thinkstats2.FitLine(xs, mean, std)\n",
    "thinkplot.Plot(fxs, fys, linewidth=4, color='0.8')\n",
    "\n",
    "xs, ys = thinkstats2.NormalProbability(success.days_to_complete)\n",
    "thinkplot.Plot(xs, ys, label='successes')\n",
    "\n",
    "thinkplot.Config(title='Normal probability plot',\n",
    "                 xlabel='Standard deviations from mean',\n",
    "                 ylabel='Days')"
   ]
  },
  {
   "cell_type": "markdown",
   "metadata": {},
   "source": [
    "If certain number of days were better than others we would expect the probability of those days to deviate from norm.  It looks like between 22-29 days, as well as 45-59 have higher deviations from the norm and are therefore better ranges to set a kickstarter duration to."
   ]
  },
  {
   "cell_type": "markdown",
   "metadata": {},
   "source": [
    "## Scatterplots"
   ]
  },
  {
   "cell_type": "markdown",
   "metadata": {},
   "source": [
    "Because the goal amount, backers and pledged amount can be rather large, I'm going to scale the data to a smaller range."
   ]
  },
  {
   "cell_type": "code",
   "execution_count": 20,
   "metadata": {},
   "outputs": [],
   "source": [
    "scaled_goal = (success.goal - success.goal.min()) / (success.goal.max() - success.goal.min())\n",
    "scaled_backers = (success.backers - success.backers.min()) / (success.backers.max() - success.backers.min())\n",
    "scaled_pledged = (success.pledged - success.pledged.min()) / (success.pledged.max() - success.pledged.min())\n",
    "avg_per_backer = success.pledged / success.backers"
   ]
  },
  {
   "cell_type": "code",
   "execution_count": 21,
   "metadata": {},
   "outputs": [
    {
     "data": {
      "image/png": "[encoded data removed]",
      "text/plain": [
       "<Figure size 432x288 with 1 Axes>"
      ]
     },
     "metadata": {},
     "output_type": "display_data"
    }
   ],
   "source": [
    "thinkplot.Scatter(scaled_goal , avg_per_backer, alpha=.3, s=15)"
   ]
  },
  {
   "cell_type": "code",
   "execution_count": 22,
   "metadata": {},
   "outputs": [
    {
     "data": {
      "text/plain": [
       "array([[1.       , 0.1806874],\n",
       "       [0.1806874, 1.       ]])"
      ]
     },
     "execution_count": 22,
     "metadata": {},
     "output_type": "execute_result"
    }
   ],
   "source": [
    "np.corrcoef(scaled_goal, avg_per_backer)"
   ]
  },
  {
   "cell_type": "markdown",
   "metadata": {},
   "source": [
    "Here we are plotting the goal versus the Avg. Pledge Amount per Backer.  You would think the higher the goal would require getting people to spend more but rather, those more ambitious goal amounts just found more people to fund it rather than getting people to pay more.  The correlation between goal and avg per backer is a weak relationship at .180."
   ]
  },
  {
   "cell_type": "code",
   "execution_count": 23,
   "metadata": {},
   "outputs": [
    {
     "data": {
      "image/png": "[encoded data removed]",
      "text/plain": [
       "<Figure size 432x288 with 1 Axes>"
      ]
     },
     "metadata": {},
     "output_type": "display_data"
    }
   ],
   "source": [
    "thinkplot.Scatter(success.backers, scaled_pledged, alpha=.3, s=15)"
   ]
  },
  {
   "cell_type": "code",
   "execution_count": 24,
   "metadata": {},
   "outputs": [
    {
     "data": {
      "text/plain": [
       "array([[1.        , 0.74994455],\n",
       "       [0.74994455, 1.        ]])"
      ]
     },
     "execution_count": 24,
     "metadata": {},
     "output_type": "execute_result"
    }
   ],
   "source": [
    "np.corrcoef(success.backers, scaled_pledged)"
   ]
  },
  {
   "cell_type": "markdown",
   "metadata": {},
   "source": [
    "While backers versus pledged amount might not be the most interesting relationship, what is interesting is seeing the outliers.  The project that had the most backers raised less than 50% of the most funded project.  The correlation between backers and pledged amount is a strong relationship at .749."
   ]
  },
  {
   "cell_type": "markdown",
   "metadata": {},
   "source": [
    "## Hypothesis Testing"
   ]
  },
  {
   "cell_type": "code",
   "execution_count": 25,
   "metadata": {},
   "outputs": [],
   "source": [
    "def RunTest(a, b, n):\n",
    "    stat, p = stats.ttest_ind(a, b)\n",
    "    print('%d\\t%0.2f' % (n, p))"
   ]
  },
  {
   "cell_type": "code",
   "execution_count": 26,
   "metadata": {},
   "outputs": [
    {
     "name": "stdout",
     "output_type": "stream",
     "text": [
      "1000\t0.00\n",
      "500\t0.00\n",
      "250\t0.00\n",
      "125\t0.00\n",
      "62\t0.05\n",
      "31\t0.59\n",
      "15\t0.20\n"
     ]
    }
   ],
   "source": [
    "n = 1000\n",
    "\n",
    "for _ in range(7):\n",
    "    a = thinkstats2.SampleRows(success['days_to_complete'], n)\n",
    "    b = thinkstats2.SampleRows(failed['days_to_complete'], n)\n",
    "    RunTest(a, b, n)\n",
    "    n //= 2"
   ]
  },
  {
   "cell_type": "markdown",
   "metadata": {},
   "source": [
    "### Regression Analysis"
   ]
  },
  {
   "cell_type": "code",
   "execution_count": 27,
   "metadata": {},
   "outputs": [
    {
     "name": "stdout",
     "output_type": "stream",
     "text": [
      "                            OLS Regression Results                            \n",
      "==============================================================================\n",
      "Dep. Variable:            binarystate   R-squared:                       0.019\n",
      "Model:                            OLS   Adj. R-squared:                  0.019\n",
      "Method:                 Least Squares   F-statistic:                     5635.\n",
      "Date:                Mon, 12 Nov 2018   Prob (F-statistic):               0.00\n",
      "Time:                        14:42:08   Log-Likelihood:            -2.0609e+05\n",
      "No. Observations:              289259   AIC:                         4.122e+05\n",
      "Df Residuals:                  289257   BIC:                         4.122e+05\n",
      "Df Model:                           1                                         \n",
      "Covariance Type:            nonrobust                                         \n",
      "====================================================================================\n",
      "                       coef    std err          t      P>|t|      [0.025      0.975]\n",
      "------------------------------------------------------------------------------------\n",
      "Intercept            0.6530      0.003    236.261      0.000       0.648       0.658\n",
      "days_to_complete    -0.0061   8.07e-05    -75.066      0.000      -0.006      -0.006\n",
      "==============================================================================\n",
      "Omnibus:                     1255.971   Durbin-Watson:                   0.038\n",
      "Prob(Omnibus):                  0.000   Jarque-Bera (JB):            44770.226\n",
      "Skew:                           0.162   Prob(JB):                         0.00\n",
      "Kurtosis:                       1.100   Cond. No.                         103.\n",
      "==============================================================================\n",
      "\n",
      "Warnings:\n",
      "[1] Standard Errors assume that the covariance matrix of the errors is correctly specified.\n"
     ]
    }
   ],
   "source": [
    "success['binarystate'] = 1\n",
    "failed['binarystate'] = 0\n",
    "ks_data_binarystate = pd.concat([success, failed])\n",
    "ks_data_binarystate['state'] = ks_data_binarystate['state'].astype('category')\n",
    "ks_data_binarystate.state = ks_data_binarystate.state.cat.remove_unused_categories()\n",
    "\n",
    "formula = 'binarystate ~ days_to_complete'\n",
    "model = smf.ols(formula, data=ks_data_binarystate)\n",
    "results = model.fit()\n",
    "print(results.summary())"
   ]
  },
  {
   "cell_type": "code",
   "execution_count": null,
   "metadata": {},
   "outputs": [],
   "source": []
  },
  {
   "cell_type": "code",
   "execution_count": null,
   "metadata": {},
   "outputs": [],
   "source": []
  }
 ],
 "metadata": {
  "kernelspec": {
   "display_name": "Python 3",
   "language": "python",
   "name": "python3"
  },
  "language_info": {
   "codemirror_mode": {
    "name": "ipython",
    "version": 3
   },
   "file_extension": ".py",
   "mimetype": "text/x-python",
   "name": "python",
   "nbconvert_exporter": "python",
   "pygments_lexer": "ipython3",
   "version": "3.6.5"
  }
 },
 "nbformat": 4,
 "nbformat_minor": 2
}
